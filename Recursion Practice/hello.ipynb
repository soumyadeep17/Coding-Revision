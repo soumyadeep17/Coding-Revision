{
 "cells": [
  {
   "cell_type": "markdown",
   "metadata": {},
   "source": []
  },
  {
   "cell_type": "code",
   "execution_count": 2,
   "metadata": {},
   "outputs": [
    {
     "ename": "ValueError",
     "evalue": "invalid literal for int() with base 10: '3 3'",
     "output_type": "error",
     "traceback": [
      "\u001b[1;31m---------------------------------------------------------------------------\u001b[0m",
      "\u001b[1;31mValueError\u001b[0m                                Traceback (most recent call last)",
      "\u001b[1;32m~\\AppData\\Local\\Temp/ipykernel_16104/1778000616.py\u001b[0m in \u001b[0;36m<module>\u001b[1;34m\u001b[0m\n\u001b[0;32m      1\u001b[0m \u001b[1;32mfrom\u001b[0m \u001b[0mcollections\u001b[0m \u001b[1;32mimport\u001b[0m \u001b[0mdefaultdict\u001b[0m\u001b[1;33m\u001b[0m\u001b[1;33m\u001b[0m\u001b[0m\n\u001b[0;32m      2\u001b[0m \u001b[1;33m\u001b[0m\u001b[0m\n\u001b[1;32m----> 3\u001b[1;33m \u001b[0mx\u001b[0m  \u001b[1;33m=\u001b[0m \u001b[0mint\u001b[0m\u001b[1;33m(\u001b[0m\u001b[0minput\u001b[0m\u001b[1;33m(\u001b[0m\u001b[1;33m)\u001b[0m\u001b[1;33m)\u001b[0m\u001b[1;33m\u001b[0m\u001b[1;33m\u001b[0m\u001b[0m\n\u001b[0m\u001b[0;32m      4\u001b[0m \u001b[0mdict_1\u001b[0m \u001b[1;33m=\u001b[0m \u001b[0mdefaultdict\u001b[0m\u001b[1;33m(\u001b[0m\u001b[0mlist\u001b[0m\u001b[1;33m)\u001b[0m\u001b[1;33m\u001b[0m\u001b[1;33m\u001b[0m\u001b[0m\n\u001b[0;32m      5\u001b[0m \u001b[0mdict_2\u001b[0m \u001b[1;33m=\u001b[0m \u001b[0mdefaultdict\u001b[0m\u001b[1;33m(\u001b[0m\u001b[0mlist\u001b[0m\u001b[1;33m)\u001b[0m\u001b[1;33m\u001b[0m\u001b[1;33m\u001b[0m\u001b[0m\n",
      "\u001b[1;31mValueError\u001b[0m: invalid literal for int() with base 10: '3 3'"
     ]
    }
   ],
   "source": [
    "from collections import defaultdict\n",
    "\n",
    "x  = int(input())\n",
    "dict_1 = defaultdict(list)\n",
    "dict_2 = defaultdict(list)\n",
    "\n",
    "for i in range(x[0]):\n",
    "    dict_1[i] = input()\n",
    "\n",
    "for i in range(x[1]):\n",
    "    dict_1[i] = input()\n"
   ]
  },
  {
   "cell_type": "code",
   "execution_count": 34,
   "metadata": {},
   "outputs": [
    {
     "name": "stdout",
     "output_type": "stream",
     "text": [
      "[11, 31, 64]\n",
      "[11, 31, 64]\n"
     ]
    }
   ],
   "source": [
    "# arr = [3,5453,464,564,6475,7]\n",
    "arr = [64,31,11]\n",
    "def partition(arr1,i,j):\n",
    "    pivot = arr1[i] # Considering Pivot element as the first element\n",
    "    k = i+1\n",
    "    while(k<j):\n",
    "        if arr1[k] >= pivot and arr1[j] <= pivot:\n",
    "            arr1[k],arr1[j] = arr1[j],arr1[k]\n",
    "            k+=1\n",
    "            j-=1\n",
    "        elif arr1[k] > pivot and arr1[j] > pivot:\n",
    "            j-=1\n",
    "        elif arr1[k] < pivot and arr1[j] < pivot:\n",
    "            k+=1\n",
    "        else:\n",
    "            k+=1\n",
    "            j-=1\n",
    "    if arr1[i]>arr1[j]:\n",
    "        arr1[i],arr1[j] = arr1[j],arr1[i]\n",
    "    return arr1\n",
    "\n",
    "# def quickSort(arr, low, high):\n",
    "# \tif len(arr) == 1:\n",
    "# \t\treturn arr\n",
    "# \tif low < high:\n",
    "# \t\tpi = partition(arr, low, high)\n",
    "# \t\tquickSort(arr, low, pi-1)\n",
    "# \t\tquickSort(arr, pi+1, high)\n",
    "\n",
    "print(partition(arr,0,len(arr)-1))\n",
    "# quickSort(arr, 0, len(arr)-1)\n",
    "print(arr)\n"
   ]
  },
  {
   "cell_type": "code",
   "execution_count": 19,
   "metadata": {},
   "outputs": [],
   "source": [
    "arr1 = [3,5453,464,564,6475,7]"
   ]
  },
  {
   "cell_type": "code",
   "execution_count": 2,
   "metadata": {},
   "outputs": [
    {
     "name": "stdout",
     "output_type": "stream",
     "text": [
      "[3, 4, 35, 45, 53, 53, 345, 435, 534, 534, 543, 5345]\n"
     ]
    }
   ],
   "source": [
    "arr = [4,35,435,45,345,3,534,53,534,53,543,5345]\n",
    "def partition(arr1,i,j):\n",
    "    pivot = arr1[i] # Considering Pivot element as the first element\n",
    "    k = i+1\n",
    "    while(k<=j):\n",
    "        if arr1[k] > pivot and arr1[j] < pivot:\n",
    "            arr1[k],arr1[j] = arr1[j],arr1[k]\n",
    "            k+=1\n",
    "            j-=1\n",
    "        elif arr1[k] > pivot and arr1[j] > pivot:\n",
    "            j-=1\n",
    "        elif arr1[k] < pivot and arr1[j] < pivot:\n",
    "            k+=1\n",
    "        else:\n",
    "            k+=1\n",
    "            j-=1\n",
    "   \n",
    "    if arr1[i]>arr1[j]:\n",
    "        arr1[i],arr1[j] = arr1[j],arr1[i]\n",
    "    return j\n",
    "    # else:\n",
    "    #     print(arr1,i,k,j)\n",
    "    #     return i\n",
    "\n",
    "def quickSort(arr,low,high):\n",
    "    if low<high:\n",
    "        pi = partition(arr, low, high)\n",
    "        quickSort(arr, low, pi-1)\n",
    "        quickSort(arr, pi+1, high)\n",
    "quickSort(arr,0,len(arr)-1)\n",
    "# print(partition(arr,0,len(arr)-1))\n",
    "print(arr)"
   ]
  },
  {
   "cell_type": "code",
   "execution_count": 17,
   "metadata": {},
   "outputs": [
    {
     "name": "stdout",
     "output_type": "stream",
     "text": [
      "2\n"
     ]
    }
   ],
   "source": [
    "num = [4,5,6]   \n",
    "target = 6\n",
    "def bin_search(num,start,end,target):\n",
    "    if start == end:\n",
    "        if num[start] == target:\n",
    "            return start\n",
    "        else:\n",
    "            return -1\n",
    "    mid = (end + start)//2 # 3\n",
    "    if bin_search(num,start,mid,target) == -1:\n",
    "        return bin_search(num,mid+1,end,target)\n",
    "    else:\n",
    "        return bin_search(num,start,mid,target)\n",
    "print(bin_search(num,0,len(num)-1,target))"
   ]
  },
  {
   "cell_type": "code",
   "execution_count": 1,
   "metadata": {},
   "outputs": [
    {
     "data": {
      "text/plain": [
       "24"
      ]
     },
     "execution_count": 1,
     "metadata": {},
     "output_type": "execute_result"
    }
   ],
   "source": [
    "arr = [4,2,21,24,2]\n",
    "def find_max(arr,start,end):\n",
    "    if (end - start == 1 or start == end):\n",
    "        return max(arr[start],arr[end])\n",
    "    else:\n",
    "        mid = (start + end) //2 #--> 2\n",
    "        return max(find_max(arr,start,mid),find_max(arr,mid+1,end))\n",
    "find_max(arr,0,len(arr)-1)\n",
    "\n",
    "# not optimal bas dekhne me acha lagra hain"
   ]
  },
  {
   "cell_type": "code",
   "execution_count": 2,
   "metadata": {},
   "outputs": [
    {
     "name": "stdout",
     "output_type": "stream",
     "text": [
      "abaca\n"
     ]
    }
   ],
   "source": [
    "# 'Remove Consecutive Duplicates and replace single in string using recursion'\n",
    "\n",
    "string = 'abbaca'\n",
    "def remove_dup(s,n):\n",
    "    new_s = string[0]\n",
    "    for i in range(1,n):\n",
    "        if s[i] not in new_s or s[i]!=s[i-1]:\n",
    "            new_s+=s[i]\n",
    "    return new_s\n",
    "\n",
    "print(remove_dup(string,len(string)))\n",
    "# convert string to int using recursion\n",
    "def atoi(s):\n",
    "    if len(s) == 1:\n",
    "        if s.isnumeric():\n",
    "            return s\n",
    "        else:\n",
    "            return ''\n",
    "    if s[0].isnumeric() or s[0] == '-':\n",
    "        return s[0] + atoi(s[1:])\n",
    "    return atoi(s[1:])"
   ]
  },
  {
   "cell_type": "code",
   "execution_count": 2,
   "metadata": {},
   "outputs": [
    {
     "data": {
      "text/plain": [
       "[[1, 4], [5, 6], [7, 8]]"
      ]
     },
     "execution_count": 2,
     "metadata": {},
     "output_type": "execute_result"
    }
   ],
   "source": [
    "# Merge Intervals\n",
    "\n",
    "a = [[1,4],[5,6],[7,8]]\n",
    "def merge_interval(x):\n",
    "    if len(x) == 1:\n",
    "        return x\n",
    "    if x[0][1]>=x[1][0]:\n",
    "        return merge_interval([[x[0][0],x[1][1]]] + x[2:])\n",
    "    return [x[0]] + merge_interval(x[1:])\n",
    "merge_interval(a)"
   ]
  },
  {
   "cell_type": "code",
   "execution_count": null,
   "metadata": {},
   "outputs": [],
   "source": [
    "def peakINdex(arr,start,end):\n",
    "    if start == end:\n",
    "        return start\n",
    "    mid = start + (end - start)//2\n",
    "    if arr[mid]>arr[mid+1]:\n",
    "            return peakINdex(arr,0,mid)\n",
    "    if arr[mid]<arr[mid+1]:\n",
    "        return peakINdex(arr,mid+1,end)"
   ]
  },
  {
   "cell_type": "code",
   "execution_count": 1,
   "metadata": {},
   "outputs": [],
   "source": [
    "def removeDuplicates(s):\n",
    "    if len(s) == 1:\n",
    "        return s[0]\n",
    "    if s[0] == s[1]:\n",
    "        return removeDuplicates(s[2:]) \n",
    "    if s[0]!=s[1]:\n",
    "        new_s = s[0] + removeDuplicates(s[1:])\n",
    "        return removeDuplicates(new_s)\n",
    "        \n",
    "\n",
    "removeDuplicates('abbaca')"
   ]
  },
  {
   "cell_type": "code",
   "execution_count": 5,
   "metadata": {},
   "outputs": [
    {
     "data": {
      "text/plain": [
       "True"
      ]
     },
     "execution_count": 5,
     "metadata": {},
     "output_type": "execute_result"
    }
   ],
   "source": [
    "# check if an array is sorted or not using recursion(1: normal ,2: binary)\n",
    "def isSorted(arr):\n",
    "    if len(arr) == 1:\n",
    "        return True\n",
    "    if arr[0]>arr[1]:\n",
    "        return False\n",
    "    return isSorted(arr[1:])\n",
    "def isSorted_bin(arr):\n",
    "    mid = (len(arr)-1)//2\n",
    "    if len(arr) == 1 or (len(arr) == 2 and arr[0]<arr[1]):\n",
    "        return True\n",
    "    if arr[mid]>=arr[mid-1] and arr[mid]<=arr[mid+1]:\n",
    "        return isSorted_bin(arr[0:mid]) and isSorted_bin(arr[mid+1:])\n",
    "    else:\n",
    "        return False\n",
    "isSorted_bin([1,2,2,4,5])\n",
    "\n",
    "# [1,2,8,10,11,6,7]"
   ]
  },
  {
   "cell_type": "code",
   "execution_count": 6,
   "metadata": {},
   "outputs": [
    {
     "name": "stdout",
     "output_type": "stream",
     "text": [
      "81.01606369018555\n"
     ]
    }
   ],
   "source": [
    "import time\n",
    "t1 = time.time()\n",
    "isSorted([i for  i in range(1000)])\n",
    "t2 = time.time()\n",
    "print((t2-t1)*1000)"
   ]
  },
  {
   "cell_type": "code",
   "execution_count": 9,
   "metadata": {},
   "outputs": [
    {
     "name": "stdout",
     "output_type": "stream",
     "text": [
      "612.3147010803223\n"
     ]
    }
   ],
   "source": [
    "import time\n",
    "t1 = time.time()\n",
    "isSorted_bin([i for  i in range(1000000)])\n",
    "t2 = time.time()\n",
    "print((t2-t1)*1000)\n"
   ]
  },
  {
   "cell_type": "code",
   "execution_count": 1,
   "metadata": {},
   "outputs": [
    {
     "data": {
      "text/plain": [
       "6"
      ]
     },
     "execution_count": 1,
     "metadata": {},
     "output_type": "execute_result"
    }
   ],
   "source": [
    "sum([1,2,3])"
   ]
  },
  {
   "cell_type": "code",
   "execution_count": 10,
   "metadata": {},
   "outputs": [
    {
     "data": {
      "text/plain": [
       "array([0, 1, 0], dtype=int32)"
      ]
     },
     "execution_count": 10,
     "metadata": {},
     "output_type": "execute_result"
    }
   ],
   "source": [
    "import numpy as np\n",
    "np.array([1,0,1])^np.array([1,1,1])"
   ]
  },
  {
   "cell_type": "code",
   "execution_count": 30,
   "metadata": {},
   "outputs": [
    {
     "name": "stdout",
     "output_type": "stream",
     "text": [
      "[1, 0, 1, 0, 1]\n",
      "[0, 1, 0, 1, 0]\n"
     ]
    }
   ],
   "source": [
    "length = 5\n",
    "a = [0]*length\n",
    "for i in range(0,length,2):\n",
    "    a[i] = 1\n",
    "for i in range(0,length):\n",
    "    a[i] = 1 - a[i]"
   ]
  },
  {
   "cell_type": "code",
   "execution_count": 28,
   "metadata": {},
   "outputs": [
    {
     "data": {
      "text/plain": [
       "[1, 0, 1, 0, 1, 0]"
      ]
     },
     "execution_count": 28,
     "metadata": {},
     "output_type": "execute_result"
    }
   ],
   "source": [
    "a = [1,1,1,1,1]"
   ]
  },
  {
   "cell_type": "code",
   "execution_count": 10,
   "metadata": {},
   "outputs": [],
   "source": [
    "def x(l):\n",
    "    mid = (len(l)-1)//2\n",
    "    if len(l) == 1 or (len(l) == 2 and l[0]!=l[1]):\n",
    "        return 0\n",
    "    if len(l) == 2:\n",
    "        return 1\n",
    "    else:\n",
    "        return x(l[:mid+1]) + x(l[mid:mid+2]) + x(l[mid+1:])"
   ]
  },
  {
   "cell_type": "code",
   "execution_count": 7,
   "metadata": {},
   "outputs": [],
   "source": [
    "def mergingTwoSortedArrays(a1,a2):\n",
    "    i = 0\n",
    "    j = 0\n",
    "    a3 = []\n",
    "    while(i<len(a1) and j<len(a2)):\n",
    "        if a1[i]>a2[j]:\n",
    "            a3.append(a2[j])\n",
    "            j+=1\n",
    "        else:\n",
    "            a3.append(a1[i])\n",
    "            i+=1\n",
    "    if i<len(a1):\n",
    "        return a3 + a1[i:]\n",
    "    else:\n",
    "        return a3 + a2[j:]\n",
    "\n",
    "def mergeSorted(arr):\n",
    "    '''returns sorted array'''\n",
    "    low,high = 0,len(arr)\n",
    "    mid = (low+high)//2\n",
    "    if len(arr) == 1:\n",
    "        return arr\n",
    "    else:\n",
    "        return mergingTwoSortedArrays(mergeSorted(arr[low:mid]),mergeSorted(arr[mid:high]))\n"
   ]
  },
  {
   "cell_type": "code",
   "execution_count": 8,
   "metadata": {},
   "outputs": [],
   "source": [
    "arr = [5,2,3,1]"
   ]
  },
  {
   "cell_type": "code",
   "execution_count": 9,
   "metadata": {},
   "outputs": [
    {
     "data": {
      "text/plain": [
       "[1, 2, 3, 5]"
      ]
     },
     "execution_count": 9,
     "metadata": {},
     "output_type": "execute_result"
    }
   ],
   "source": [
    "mergeSorted(arr)"
   ]
  },
  {
   "cell_type": "code",
   "execution_count": 57,
   "metadata": {},
   "outputs": [
    {
     "name": "stdout",
     "output_type": "stream",
     "text": [
      "1\n"
     ]
    }
   ],
   "source": [
    "# // counting no of pairs adding up to a numbet\n",
    "arr = [72,18,4,33,82,68,32,67,55,57,16,92,29,40,79,3,96,4,6, 87, 54, 33, 98 ,2 ,51 ,12 ,16 ,5 ,4,6 ]\n",
    "def getPairsCount(arr,k):\n",
    "        count = 0\n",
    "        arr = [arr[i] for i in range(len(arr)) if arr[i]<=k]\n",
    "        arr = sorted(arr)\n",
    "        if len(arr) == 0 or arr[0]>k:\n",
    "            return 0\n",
    "        for i in range(len(arr)):\n",
    "            for j in range(i+1,len(arr)):\n",
    "                if arr[i] + arr[j]>k:\n",
    "                    continue\n",
    "                if arr[i] + arr[j] == k:\n",
    "                    count+=1\n",
    "        return count\n",
    "print(getPairsCount(arr,31))"
   ]
  },
  {
   "cell_type": "code",
   "execution_count": null,
   "metadata": {},
   "outputs": [],
   "source": []
  },
  {
   "cell_type": "code",
   "execution_count": null,
   "metadata": {},
   "outputs": [],
   "source": []
  }
 ],
 "metadata": {
  "interpreter": {
   "hash": "5c154fd27a2caa632c8148fc7812a9f55372d48417e207b9fb7b68c01ff3642c"
  },
  "kernelspec": {
   "display_name": "Python 3.9.7 64-bit ('base': conda)",
   "language": "python",
   "name": "python3"
  },
  "language_info": {
   "codemirror_mode": {
    "name": "ipython",
    "version": 3
   },
   "file_extension": ".py",
   "mimetype": "text/x-python",
   "name": "python",
   "nbconvert_exporter": "python",
   "pygments_lexer": "ipython3",
   "version": "3.9.7"
  },
  "orig_nbformat": 4
 },
 "nbformat": 4,
 "nbformat_minor": 2
}
